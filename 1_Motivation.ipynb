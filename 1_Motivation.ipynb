{
 "cells": [
  {
   "cell_type": "code",
   "execution_count": 1,
   "metadata": {
    "ExecuteTime": {
     "end_time": "2018-01-21T02:41:34.280176Z",
     "start_time": "2018-01-21T02:41:33.965Z"
    }
   },
   "outputs": [
    {
     "data": {
      "text/html": [
       "2.9565"
      ],
      "text/latex": [
       "2.9565"
      ],
      "text/markdown": [
       "2.9565"
      ],
      "text/plain": [
       "[1] 2.9565"
      ]
     },
     "metadata": {},
     "output_type": "display_data"
    }
   ],
   "source": [
    "0.15*19.71"
   ]
  },
  {
   "cell_type": "code",
   "execution_count": 2,
   "metadata": {
    "ExecuteTime": {
     "end_time": "2018-01-21T02:43:31.864740Z",
     "start_time": "2018-01-21T02:43:26.921Z"
    }
   },
   "outputs": [
    {
     "name": "stderr",
     "output_type": "stream",
     "text": [
      "Updating HTML index of packages in '.Library'\n",
      "Making 'packages.html' ... done\n"
     ]
    }
   ],
   "source": [
    "install.packages(\"dslabs\")"
   ]
  },
  {
   "cell_type": "code",
   "execution_count": 4,
   "metadata": {
    "ExecuteTime": {
     "end_time": "2018-01-21T02:45:19.511949Z",
     "start_time": "2018-01-21T02:45:19.485Z"
    }
   },
   "outputs": [],
   "source": [
    "library(dslabs)"
   ]
  },
  {
   "cell_type": "code",
   "execution_count": 6,
   "metadata": {
    "ExecuteTime": {
     "end_time": "2018-01-21T02:50:03.743599Z",
     "start_time": "2018-01-21T02:50:03.704Z"
    }
   },
   "outputs": [],
   "source": [
    "a <- 1\n",
    "b <- 1\n",
    "c <- -1"
   ]
  },
  {
   "cell_type": "code",
   "execution_count": 7,
   "metadata": {
    "ExecuteTime": {
     "end_time": "2018-01-21T02:50:22.990213Z",
     "start_time": "2018-01-21T02:50:22.957Z"
    }
   },
   "outputs": [
    {
     "data": {
      "text/html": [
       "-1"
      ],
      "text/latex": [
       "-1"
      ],
      "text/markdown": [
       "-1"
      ],
      "text/plain": [
       "[1] -1"
      ]
     },
     "metadata": {},
     "output_type": "display_data"
    }
   ],
   "source": [
    "c"
   ]
  },
  {
   "cell_type": "code",
   "execution_count": 8,
   "metadata": {
    "ExecuteTime": {
     "end_time": "2018-01-21T02:50:34.858547Z",
     "start_time": "2018-01-21T02:50:33.943Z"
    }
   },
   "outputs": [
    {
     "name": "stdout",
     "output_type": "stream",
     "text": [
      "[1] 1\n"
     ]
    }
   ],
   "source": [
    "print(a)"
   ]
  },
  {
   "cell_type": "code",
   "execution_count": 9,
   "metadata": {
    "ExecuteTime": {
     "end_time": "2018-01-21T02:51:01.059424Z",
     "start_time": "2018-01-21T02:51:01.030Z"
    }
   },
   "outputs": [
    {
     "data": {
      "text/html": [
       "<ol class=list-inline>\n",
       "\t<li>'a'</li>\n",
       "\t<li>'b'</li>\n",
       "\t<li>'c'</li>\n",
       "</ol>\n"
      ],
      "text/latex": [
       "\\begin{enumerate*}\n",
       "\\item 'a'\n",
       "\\item 'b'\n",
       "\\item 'c'\n",
       "\\end{enumerate*}\n"
      ],
      "text/markdown": [
       "1. 'a'\n",
       "2. 'b'\n",
       "3. 'c'\n",
       "\n",
       "\n"
      ],
      "text/plain": [
       "[1] \"a\" \"b\" \"c\""
      ]
     },
     "metadata": {},
     "output_type": "display_data"
    }
   ],
   "source": [
    "ls()"
   ]
  },
  {
   "cell_type": "code",
   "execution_count": 11,
   "metadata": {
    "ExecuteTime": {
     "end_time": "2018-01-21T03:37:35.631693Z",
     "start_time": "2018-01-21T03:37:35.442Z"
    }
   },
   "outputs": [],
   "source": [
    "help(\"log\")"
   ]
  },
  {
   "cell_type": "code",
   "execution_count": 13,
   "metadata": {
    "ExecuteTime": {
     "end_time": "2018-01-21T03:38:36.956158Z",
     "start_time": "2018-01-21T03:38:36.829Z"
    }
   },
   "outputs": [],
   "source": [
    "?log"
   ]
  },
  {
   "cell_type": "code",
   "execution_count": 14,
   "metadata": {
    "ExecuteTime": {
     "end_time": "2018-01-21T03:39:25.824496Z",
     "start_time": "2018-01-21T03:39:25.807Z"
    }
   },
   "outputs": [
    {
     "data": {
      "text/html": [
       "<pre class=language-r><code>function (x, base = exp(1)) \n",
       "NULL</code></pre>"
      ],
      "text/latex": [
       "\\begin{minted}{r}\n",
       "function (x, base = exp(1)) \n",
       "NULL\n",
       "\\end{minted}"
      ],
      "text/markdown": [
       "```r\n",
       "function (x, base = exp(1)) \n",
       "NULL\n",
       "```"
      ],
      "text/plain": [
       "function (x, base = exp(1)) \n",
       "NULL"
      ]
     },
     "metadata": {},
     "output_type": "display_data"
    }
   ],
   "source": [
    "args(log)"
   ]
  },
  {
   "cell_type": "code",
   "execution_count": 15,
   "metadata": {
    "ExecuteTime": {
     "end_time": "2018-01-21T03:40:06.229724Z",
     "start_time": "2018-01-21T03:40:06.210Z"
    }
   },
   "outputs": [
    {
     "data": {
      "text/html": [
       "3"
      ],
      "text/latex": [
       "3"
      ],
      "text/markdown": [
       "3"
      ],
      "text/plain": [
       "[1] 3"
      ]
     },
     "metadata": {},
     "output_type": "display_data"
    }
   ],
   "source": [
    "log(8,base=2)"
   ]
  },
  {
   "cell_type": "code",
   "execution_count": 16,
   "metadata": {
    "ExecuteTime": {
     "end_time": "2018-01-21T03:42:43.409272Z",
     "start_time": "2018-01-21T03:42:43.284Z"
    }
   },
   "outputs": [],
   "source": [
    "data()"
   ]
  },
  {
   "cell_type": "code",
   "execution_count": 17,
   "metadata": {
    "ExecuteTime": {
     "end_time": "2018-01-21T03:58:34.129405Z",
     "start_time": "2018-01-21T03:58:34.107Z"
    }
   },
   "outputs": [
    {
     "data": {
      "text/html": [
       "500500"
      ],
      "text/latex": [
       "500500"
      ],
      "text/markdown": [
       "500500"
      ],
      "text/plain": [
       "[1] 500500"
      ]
     },
     "metadata": {},
     "output_type": "display_data"
    }
   ],
   "source": [
    "n <- 1000\n",
    "x <- seq(1,n)\n",
    "sum(x)"
   ]
  },
  {
   "cell_type": "code",
   "execution_count": 18,
   "metadata": {
    "ExecuteTime": {
     "end_time": "2018-01-21T04:02:44.253469Z",
     "start_time": "2018-01-21T04:02:44.237Z"
    }
   },
   "outputs": [
    {
     "data": {
      "text/html": [
       "3.01029995663981"
      ],
      "text/latex": [
       "3.01029995663981"
      ],
      "text/markdown": [
       "3.01029995663981"
      ],
      "text/plain": [
       "[1] 3.0103"
      ]
     },
     "metadata": {},
     "output_type": "display_data"
    }
   ],
   "source": [
    "log10(2^10)"
   ]
  },
  {
   "cell_type": "code",
   "execution_count": 19,
   "metadata": {
    "ExecuteTime": {
     "end_time": "2018-01-21T04:02:58.137145Z",
     "start_time": "2018-01-21T04:02:58.119Z"
    }
   },
   "outputs": [
    {
     "data": {
      "text/html": [
       "2"
      ],
      "text/latex": [
       "2"
      ],
      "text/markdown": [
       "2"
      ],
      "text/plain": [
       "[1] 2"
      ]
     },
     "metadata": {},
     "output_type": "display_data"
    }
   ],
   "source": [
    "log(exp(2))"
   ]
  },
  {
   "cell_type": "markdown",
   "metadata": {},
   "source": [
    "# Data Types"
   ]
  },
  {
   "cell_type": "code",
   "execution_count": 20,
   "metadata": {
    "ExecuteTime": {
     "end_time": "2018-01-21T04:07:33.357252Z",
     "start_time": "2018-01-21T04:07:33.335Z"
    }
   },
   "outputs": [
    {
     "data": {
      "text/html": [
       "'numeric'"
      ],
      "text/latex": [
       "'numeric'"
      ],
      "text/markdown": [
       "'numeric'"
      ],
      "text/plain": [
       "[1] \"numeric\""
      ]
     },
     "metadata": {},
     "output_type": "display_data"
    }
   ],
   "source": [
    "class(a)"
   ]
  },
  {
   "cell_type": "code",
   "execution_count": 21,
   "metadata": {
    "ExecuteTime": {
     "end_time": "2018-01-21T04:07:48.666264Z",
     "start_time": "2018-01-21T04:07:48.645Z"
    }
   },
   "outputs": [
    {
     "data": {
      "text/html": [
       "'function'"
      ],
      "text/latex": [
       "'function'"
      ],
      "text/markdown": [
       "'function'"
      ],
      "text/plain": [
       "[1] \"function\""
      ]
     },
     "metadata": {},
     "output_type": "display_data"
    }
   ],
   "source": [
    "class(ls)"
   ]
  },
  {
   "cell_type": "code",
   "execution_count": 22,
   "metadata": {
    "ExecuteTime": {
     "end_time": "2018-01-21T04:08:45.875450Z",
     "start_time": "2018-01-21T04:08:45.860Z"
    }
   },
   "outputs": [],
   "source": [
    "library(dslabs)"
   ]
  },
  {
   "cell_type": "code",
   "execution_count": 23,
   "metadata": {
    "ExecuteTime": {
     "end_time": "2018-01-21T04:08:59.473189Z",
     "start_time": "2018-01-21T04:08:59.457Z"
    }
   },
   "outputs": [],
   "source": [
    "data(\"murders\")"
   ]
  },
  {
   "cell_type": "code",
   "execution_count": 24,
   "metadata": {
    "ExecuteTime": {
     "end_time": "2018-01-21T04:09:25.114665Z",
     "start_time": "2018-01-21T04:09:25.088Z"
    }
   },
   "outputs": [
    {
     "data": {
      "text/html": [
       "'data.frame'"
      ],
      "text/latex": [
       "'data.frame'"
      ],
      "text/markdown": [
       "'data.frame'"
      ],
      "text/plain": [
       "[1] \"data.frame\""
      ]
     },
     "metadata": {},
     "output_type": "display_data"
    }
   ],
   "source": [
    "class(murders)"
   ]
  },
  {
   "cell_type": "code",
   "execution_count": 25,
   "metadata": {
    "ExecuteTime": {
     "end_time": "2018-01-21T04:09:43.078355Z",
     "start_time": "2018-01-21T04:09:43.053Z"
    }
   },
   "outputs": [
    {
     "name": "stdout",
     "output_type": "stream",
     "text": [
      "'data.frame':\t51 obs. of  5 variables:\n",
      " $ state     : chr  \"Alabama\" \"Alaska\" \"Arizona\" \"Arkansas\" ...\n",
      " $ abb       : chr  \"AL\" \"AK\" \"AZ\" \"AR\" ...\n",
      " $ region    : Factor w/ 4 levels \"Northeast\",\"South\",..: 2 4 4 2 4 4 1 2 2 2 ...\n",
      " $ population: num  4779736 710231 6392017 2915918 37253956 ...\n",
      " $ total     : num  135 19 232 93 1257 ...\n"
     ]
    }
   ],
   "source": [
    "#structure\n",
    "str(murders)"
   ]
  },
  {
   "cell_type": "code",
   "execution_count": 26,
   "metadata": {
    "ExecuteTime": {
     "end_time": "2018-01-21T04:10:24.915390Z",
     "start_time": "2018-01-21T04:10:24.818Z"
    }
   },
   "outputs": [
    {
     "data": {
      "text/html": [
       "<table>\n",
       "<thead><tr><th scope=col>state</th><th scope=col>abb</th><th scope=col>region</th><th scope=col>population</th><th scope=col>total</th></tr></thead>\n",
       "<tbody>\n",
       "\t<tr><td>Alabama   </td><td>AL        </td><td>South     </td><td> 4779736  </td><td> 135      </td></tr>\n",
       "\t<tr><td>Alaska    </td><td>AK        </td><td>West      </td><td>  710231  </td><td>  19      </td></tr>\n",
       "\t<tr><td>Arizona   </td><td>AZ        </td><td>West      </td><td> 6392017  </td><td> 232      </td></tr>\n",
       "\t<tr><td>Arkansas  </td><td>AR        </td><td>South     </td><td> 2915918  </td><td>  93      </td></tr>\n",
       "\t<tr><td>California</td><td>CA        </td><td>West      </td><td>37253956  </td><td>1257      </td></tr>\n",
       "\t<tr><td>Colorado  </td><td>CO        </td><td>West      </td><td> 5029196  </td><td>  65      </td></tr>\n",
       "</tbody>\n",
       "</table>\n"
      ],
      "text/latex": [
       "\\begin{tabular}{r|lllll}\n",
       " state & abb & region & population & total\\\\\n",
       "\\hline\n",
       "\t Alabama    & AL         & South      &  4779736   &  135      \\\\\n",
       "\t Alaska     & AK         & West       &   710231   &   19      \\\\\n",
       "\t Arizona    & AZ         & West       &  6392017   &  232      \\\\\n",
       "\t Arkansas   & AR         & South      &  2915918   &   93      \\\\\n",
       "\t California & CA         & West       & 37253956   & 1257      \\\\\n",
       "\t Colorado   & CO         & West       &  5029196   &   65      \\\\\n",
       "\\end{tabular}\n"
      ],
      "text/markdown": [
       "\n",
       "state | abb | region | population | total | \n",
       "|---|---|---|---|---|---|\n",
       "| Alabama    | AL         | South      |  4779736   |  135       | \n",
       "| Alaska     | AK         | West       |   710231   |   19       | \n",
       "| Arizona    | AZ         | West       |  6392017   |  232       | \n",
       "| Arkansas   | AR         | South      |  2915918   |   93       | \n",
       "| California | CA         | West       | 37253956   | 1257       | \n",
       "| Colorado   | CO         | West       |  5029196   |   65       | \n",
       "\n",
       "\n"
      ],
      "text/plain": [
       "  state      abb region population total\n",
       "1 Alabama    AL  South   4779736    135 \n",
       "2 Alaska     AK  West     710231     19 \n",
       "3 Arizona    AZ  West    6392017    232 \n",
       "4 Arkansas   AR  South   2915918     93 \n",
       "5 California CA  West   37253956   1257 \n",
       "6 Colorado   CO  West    5029196     65 "
      ]
     },
     "metadata": {},
     "output_type": "display_data"
    }
   ],
   "source": [
    "head(murders)"
   ]
  },
  {
   "cell_type": "code",
   "execution_count": 27,
   "metadata": {
    "ExecuteTime": {
     "end_time": "2018-01-21T04:11:38.447032Z",
     "start_time": "2018-01-21T04:11:38.426Z"
    }
   },
   "outputs": [
    {
     "data": {
      "text/html": [
       "<ol class=list-inline>\n",
       "\t<li>4779736</li>\n",
       "\t<li>710231</li>\n",
       "\t<li>6392017</li>\n",
       "\t<li>2915918</li>\n",
       "\t<li>37253956</li>\n",
       "\t<li>5029196</li>\n",
       "\t<li>3574097</li>\n",
       "\t<li>897934</li>\n",
       "\t<li>601723</li>\n",
       "\t<li>19687653</li>\n",
       "\t<li>9920000</li>\n",
       "\t<li>1360301</li>\n",
       "\t<li>1567582</li>\n",
       "\t<li>12830632</li>\n",
       "\t<li>6483802</li>\n",
       "\t<li>3046355</li>\n",
       "\t<li>2853118</li>\n",
       "\t<li>4339367</li>\n",
       "\t<li>4533372</li>\n",
       "\t<li>1328361</li>\n",
       "\t<li>5773552</li>\n",
       "\t<li>6547629</li>\n",
       "\t<li>9883640</li>\n",
       "\t<li>5303925</li>\n",
       "\t<li>2967297</li>\n",
       "\t<li>5988927</li>\n",
       "\t<li>989415</li>\n",
       "\t<li>1826341</li>\n",
       "\t<li>2700551</li>\n",
       "\t<li>1316470</li>\n",
       "\t<li>8791894</li>\n",
       "\t<li>2059179</li>\n",
       "\t<li>19378102</li>\n",
       "\t<li>9535483</li>\n",
       "\t<li>672591</li>\n",
       "\t<li>11536504</li>\n",
       "\t<li>3751351</li>\n",
       "\t<li>3831074</li>\n",
       "\t<li>12702379</li>\n",
       "\t<li>1052567</li>\n",
       "\t<li>4625364</li>\n",
       "\t<li>814180</li>\n",
       "\t<li>6346105</li>\n",
       "\t<li>25145561</li>\n",
       "\t<li>2763885</li>\n",
       "\t<li>625741</li>\n",
       "\t<li>8001024</li>\n",
       "\t<li>6724540</li>\n",
       "\t<li>1852994</li>\n",
       "\t<li>5686986</li>\n",
       "\t<li>563626</li>\n",
       "</ol>\n"
      ],
      "text/latex": [
       "\\begin{enumerate*}\n",
       "\\item 4779736\n",
       "\\item 710231\n",
       "\\item 6392017\n",
       "\\item 2915918\n",
       "\\item 37253956\n",
       "\\item 5029196\n",
       "\\item 3574097\n",
       "\\item 897934\n",
       "\\item 601723\n",
       "\\item 19687653\n",
       "\\item 9920000\n",
       "\\item 1360301\n",
       "\\item 1567582\n",
       "\\item 12830632\n",
       "\\item 6483802\n",
       "\\item 3046355\n",
       "\\item 2853118\n",
       "\\item 4339367\n",
       "\\item 4533372\n",
       "\\item 1328361\n",
       "\\item 5773552\n",
       "\\item 6547629\n",
       "\\item 9883640\n",
       "\\item 5303925\n",
       "\\item 2967297\n",
       "\\item 5988927\n",
       "\\item 989415\n",
       "\\item 1826341\n",
       "\\item 2700551\n",
       "\\item 1316470\n",
       "\\item 8791894\n",
       "\\item 2059179\n",
       "\\item 19378102\n",
       "\\item 9535483\n",
       "\\item 672591\n",
       "\\item 11536504\n",
       "\\item 3751351\n",
       "\\item 3831074\n",
       "\\item 12702379\n",
       "\\item 1052567\n",
       "\\item 4625364\n",
       "\\item 814180\n",
       "\\item 6346105\n",
       "\\item 25145561\n",
       "\\item 2763885\n",
       "\\item 625741\n",
       "\\item 8001024\n",
       "\\item 6724540\n",
       "\\item 1852994\n",
       "\\item 5686986\n",
       "\\item 563626\n",
       "\\end{enumerate*}\n"
      ],
      "text/markdown": [
       "1. 4779736\n",
       "2. 710231\n",
       "3. 6392017\n",
       "4. 2915918\n",
       "5. 37253956\n",
       "6. 5029196\n",
       "7. 3574097\n",
       "8. 897934\n",
       "9. 601723\n",
       "10. 19687653\n",
       "11. 9920000\n",
       "12. 1360301\n",
       "13. 1567582\n",
       "14. 12830632\n",
       "15. 6483802\n",
       "16. 3046355\n",
       "17. 2853118\n",
       "18. 4339367\n",
       "19. 4533372\n",
       "20. 1328361\n",
       "21. 5773552\n",
       "22. 6547629\n",
       "23. 9883640\n",
       "24. 5303925\n",
       "25. 2967297\n",
       "26. 5988927\n",
       "27. 989415\n",
       "28. 1826341\n",
       "29. 2700551\n",
       "30. 1316470\n",
       "31. 8791894\n",
       "32. 2059179\n",
       "33. 19378102\n",
       "34. 9535483\n",
       "35. 672591\n",
       "36. 11536504\n",
       "37. 3751351\n",
       "38. 3831074\n",
       "39. 12702379\n",
       "40. 1052567\n",
       "41. 4625364\n",
       "42. 814180\n",
       "43. 6346105\n",
       "44. 25145561\n",
       "45. 2763885\n",
       "46. 625741\n",
       "47. 8001024\n",
       "48. 6724540\n",
       "49. 1852994\n",
       "50. 5686986\n",
       "51. 563626\n",
       "\n",
       "\n"
      ],
      "text/plain": [
       " [1]  4779736   710231  6392017  2915918 37253956  5029196  3574097   897934\n",
       " [9]   601723 19687653  9920000  1360301  1567582 12830632  6483802  3046355\n",
       "[17]  2853118  4339367  4533372  1328361  5773552  6547629  9883640  5303925\n",
       "[25]  2967297  5988927   989415  1826341  2700551  1316470  8791894  2059179\n",
       "[33] 19378102  9535483   672591 11536504  3751351  3831074 12702379  1052567\n",
       "[41]  4625364   814180  6346105 25145561  2763885   625741  8001024  6724540\n",
       "[49]  1852994  5686986   563626"
      ]
     },
     "metadata": {},
     "output_type": "display_data"
    }
   ],
   "source": [
    "# $ is the accessor\n",
    "murders$population"
   ]
  },
  {
   "cell_type": "code",
   "execution_count": 28,
   "metadata": {
    "ExecuteTime": {
     "end_time": "2018-01-21T04:15:20.328868Z",
     "start_time": "2018-01-21T04:15:20.310Z"
    }
   },
   "outputs": [
    {
     "data": {
      "text/html": [
       "<ol class=list-inline>\n",
       "\t<li>'state'</li>\n",
       "\t<li>'abb'</li>\n",
       "\t<li>'region'</li>\n",
       "\t<li>'population'</li>\n",
       "\t<li>'total'</li>\n",
       "</ol>\n"
      ],
      "text/latex": [
       "\\begin{enumerate*}\n",
       "\\item 'state'\n",
       "\\item 'abb'\n",
       "\\item 'region'\n",
       "\\item 'population'\n",
       "\\item 'total'\n",
       "\\end{enumerate*}\n"
      ],
      "text/markdown": [
       "1. 'state'\n",
       "2. 'abb'\n",
       "3. 'region'\n",
       "4. 'population'\n",
       "5. 'total'\n",
       "\n",
       "\n"
      ],
      "text/plain": [
       "[1] \"state\"      \"abb\"        \"region\"     \"population\" \"total\"     "
      ]
     },
     "metadata": {},
     "output_type": "display_data"
    }
   ],
   "source": [
    "#column names\n",
    "names(murders)"
   ]
  },
  {
   "cell_type": "code",
   "execution_count": 29,
   "metadata": {
    "ExecuteTime": {
     "end_time": "2018-01-21T04:18:44.595432Z",
     "start_time": "2018-01-21T04:18:44.581Z"
    }
   },
   "outputs": [],
   "source": [
    "#numeric vector\n",
    "pop <- murders$population"
   ]
  },
  {
   "cell_type": "code",
   "execution_count": 30,
   "metadata": {
    "ExecuteTime": {
     "end_time": "2018-01-21T04:20:12.473053Z",
     "start_time": "2018-01-21T04:20:12.450Z"
    }
   },
   "outputs": [
    {
     "data": {
      "text/html": [
       "51"
      ],
      "text/latex": [
       "51"
      ],
      "text/markdown": [
       "51"
      ],
      "text/plain": [
       "[1] 51"
      ]
     },
     "metadata": {},
     "output_type": "display_data"
    }
   ],
   "source": [
    "length(pop)"
   ]
  },
  {
   "cell_type": "code",
   "execution_count": 31,
   "metadata": {
    "ExecuteTime": {
     "end_time": "2018-01-21T04:20:54.832071Z",
     "start_time": "2018-01-21T04:20:54.809Z"
    }
   },
   "outputs": [
    {
     "data": {
      "text/html": [
       "'a'"
      ],
      "text/latex": [
       "'a'"
      ],
      "text/markdown": [
       "'a'"
      ],
      "text/plain": [
       "[1] \"a\""
      ]
     },
     "metadata": {},
     "output_type": "display_data"
    }
   ],
   "source": [
    "#character vector\n",
    "\"a\""
   ]
  },
  {
   "cell_type": "code",
   "execution_count": 33,
   "metadata": {
    "ExecuteTime": {
     "end_time": "2018-01-21T04:23:27.705699Z",
     "start_time": "2018-01-21T04:23:27.685Z"
    }
   },
   "outputs": [
    {
     "data": {
      "text/html": [
       "FALSE"
      ],
      "text/latex": [
       "FALSE"
      ],
      "text/markdown": [
       "FALSE"
      ],
      "text/plain": [
       "[1] FALSE"
      ]
     },
     "metadata": {},
     "output_type": "display_data"
    }
   ],
   "source": [
    "#Logical Vector\n",
    "z <- 3 == 2\n",
    "z"
   ]
  },
  {
   "cell_type": "code",
   "execution_count": 34,
   "metadata": {
    "ExecuteTime": {
     "end_time": "2018-01-21T04:23:56.905457Z",
     "start_time": "2018-01-21T04:23:56.885Z"
    }
   },
   "outputs": [
    {
     "data": {
      "text/html": [
       "'logical'"
      ],
      "text/latex": [
       "'logical'"
      ],
      "text/markdown": [
       "'logical'"
      ],
      "text/plain": [
       "[1] \"logical\""
      ]
     },
     "metadata": {},
     "output_type": "display_data"
    }
   ],
   "source": [
    "class(z)"
   ]
  },
  {
   "cell_type": "code",
   "execution_count": 35,
   "metadata": {
    "ExecuteTime": {
     "end_time": "2018-01-21T04:25:37.670650Z",
     "start_time": "2018-01-21T04:25:37.653Z"
    }
   },
   "outputs": [
    {
     "data": {
      "text/html": [
       "'factor'"
      ],
      "text/latex": [
       "'factor'"
      ],
      "text/markdown": [
       "'factor'"
      ],
      "text/plain": [
       "[1] \"factor\""
      ]
     },
     "metadata": {},
     "output_type": "display_data"
    }
   ],
   "source": [
    "#factors\n",
    "#categorical data\n",
    "class(murders$region)"
   ]
  },
  {
   "cell_type": "code",
   "execution_count": 36,
   "metadata": {
    "ExecuteTime": {
     "end_time": "2018-01-21T04:26:42.838562Z",
     "start_time": "2018-01-21T04:26:42.821Z"
    }
   },
   "outputs": [
    {
     "data": {
      "text/html": [
       "<ol class=list-inline>\n",
       "\t<li>'Northeast'</li>\n",
       "\t<li>'South'</li>\n",
       "\t<li>'North Central'</li>\n",
       "\t<li>'West'</li>\n",
       "</ol>\n"
      ],
      "text/latex": [
       "\\begin{enumerate*}\n",
       "\\item 'Northeast'\n",
       "\\item 'South'\n",
       "\\item 'North Central'\n",
       "\\item 'West'\n",
       "\\end{enumerate*}\n"
      ],
      "text/markdown": [
       "1. 'Northeast'\n",
       "2. 'South'\n",
       "3. 'North Central'\n",
       "4. 'West'\n",
       "\n",
       "\n"
      ],
      "text/plain": [
       "[1] \"Northeast\"     \"South\"         \"North Central\" \"West\"         "
      ]
     },
     "metadata": {},
     "output_type": "display_data"
    }
   ],
   "source": [
    "levels(murders$region)"
   ]
  }
 ],
 "metadata": {
  "kernelspec": {
   "display_name": "R",
   "language": "R",
   "name": "ir"
  },
  "language_info": {
   "codemirror_mode": "r",
   "file_extension": ".r",
   "mimetype": "text/x-r-source",
   "name": "R",
   "pygments_lexer": "r",
   "version": "3.4.2"
  }
 },
 "nbformat": 4,
 "nbformat_minor": 2
}
